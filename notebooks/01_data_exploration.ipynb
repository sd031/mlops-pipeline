{
 "cells": [
  {
   "cell_type": "markdown",
   "metadata": {},
   "source": [
    "# Data Exploration - Customer Churn Analysis\n",
    "\n",
    "This notebook provides an exploratory data analysis of the customer churn dataset used in our MLOps pipeline."
   ]
  },
  {
   "cell_type": "code",
   "execution_count": null,
   "metadata": {},
   "outputs": [],
   "source": [
    "import pandas as pd\n",
    "import numpy as np\n",
    "import matplotlib.pyplot as plt\n",
    "import seaborn as sns\n",
    "\n",
    "# Set style for better plots\n",
    "plt.style.use('default')\n",
    "sns.set_palette('husl')\n",
    "\n",
    "# Load the data\n",
    "df = pd.read_csv('../data/raw/customer_churn.csv')\n",
    "print(f\"Dataset shape: {df.shape}\")\n",
    "df.head()"
   ]
  },
  {
   "cell_type": "code",
   "execution_count": null,
   "metadata": {},
   "outputs": [],
   "source": [
    "# Basic statistics\n",
    "print(\"Dataset Info:\")\n",
    "print(df.info())\n",
    "print(\"\\nChurn Distribution:\")\n",
    "print(df['churn'].value_counts(normalize=True))\n",
    "print(\"\\nBasic Statistics:\")\n",
    "print(df.describe())"
   ]
  },
  {
   "cell_type": "code",
   "execution_count": null,
   "metadata": {},
   "outputs": [],
   "source": [
    "# Visualizations - Fixed version\n",
    "fig, axes = plt.subplots(2, 2, figsize=(15, 10))\n",
    "\n",
    "# Churn distribution\n",
    "churn_counts = df['churn'].value_counts()\n",
    "axes[0,0].bar(churn_counts.index, churn_counts.values)\n",
    "axes[0,0].set_title('Churn Distribution')\n",
    "axes[0,0].set_xlabel('Churn')\n",
    "axes[0,0].set_ylabel('Count')\n",
    "\n",
    "# Age distribution (if age column exists, otherwise use tenure)\n",
    "if 'age' in df.columns:\n",
    "    axes[0,1].hist(df['age'], bins=20, alpha=0.7)\n",
    "    axes[0,1].set_title('Age Distribution')\n",
    "    axes[0,1].set_xlabel('Age')\n",
    "else:\n",
    "    axes[0,1].hist(df['tenure'], bins=20, alpha=0.7)\n",
    "    axes[0,1].set_title('Tenure Distribution')\n",
    "    axes[0,1].set_xlabel('Tenure (months)')\n",
    "axes[0,1].set_ylabel('Frequency')\n",
    "\n",
    "# Monthly charges by churn - Fixed boxplot\n",
    "churn_groups = df.groupby('churn')['monthly_charges']\n",
    "box_data = [group.values for name, group in churn_groups]\n",
    "axes[1,0].boxplot(box_data, labels=churn_groups.groups.keys())\n",
    "axes[1,0].set_title('Monthly Charges by Churn')\n",
    "axes[1,0].set_xlabel('Churn')\n",
    "axes[1,0].set_ylabel('Monthly Charges')\n",
    "\n",
    "# Tenure by churn - Fixed boxplot\n",
    "tenure_groups = df.groupby('churn')['tenure']\n",
    "box_data_tenure = [group.values for name, group in tenure_groups]\n",
    "axes[1,1].boxplot(box_data_tenure, labels=tenure_groups.groups.keys())\n",
    "axes[1,1].set_title('Tenure by Churn')\n",
    "axes[1,1].set_xlabel('Churn')\n",
    "axes[1,1].set_ylabel('Tenure (months)')\n",
    "\n",
    "plt.tight_layout()\n",
    "plt.show()"
   ]
  },
  {
   "cell_type": "code",
   "execution_count": null,
   "metadata": {},
   "outputs": [],
   "source": [
    "# Additional visualizations using seaborn (more robust)\n",
    "fig, axes = plt.subplots(2, 2, figsize=(15, 10))\n",
    "\n",
    "# Churn distribution with seaborn\n",
    "sns.countplot(data=df, x='churn', ax=axes[0,0])\n",
    "axes[0,0].set_title('Churn Distribution (Seaborn)')\n",
    "\n",
    "# Contract type by churn\n",
    "if 'contract' in df.columns:\n",
    "    sns.countplot(data=df, x='contract', hue='churn', ax=axes[0,1])\n",
    "    axes[0,1].set_title('Contract Type by Churn')\n",
    "    axes[0,1].tick_params(axis='x', rotation=45)\n",
    "\n",
    "# Monthly charges distribution by churn\n",
    "sns.boxplot(data=df, x='churn', y='monthly_charges', ax=axes[1,0])\n",
    "axes[1,0].set_title('Monthly Charges by Churn (Seaborn)')\n",
    "\n",
    "# Correlation heatmap for numerical features\n",
    "numerical_cols = df.select_dtypes(include=[np.number]).columns\n",
    "correlation_matrix = df[numerical_cols].corr()\n",
    "sns.heatmap(correlation_matrix, annot=True, cmap='coolwarm', center=0, ax=axes[1,1])\n",
    "axes[1,1].set_title('Feature Correlation Heatmap')\n",
    "\n",
    "plt.tight_layout()\n",
    "plt.show()"
   ]
  },
  {
   "cell_type": "code",
   "execution_count": null,
   "metadata": {},
   "outputs": [],
   "source": [
    "# Feature analysis\n",
    "print(\"Categorical Features Analysis:\")\n",
    "categorical_cols = df.select_dtypes(include=['object']).columns\n",
    "for col in categorical_cols:\n",
    "    if col != 'churn':  # Skip target variable\n",
    "        print(f\"\\n{col.upper()}:\")\n",
    "        print(df[col].value_counts())\n",
    "        \n",
    "        # Churn rate by category\n",
    "        churn_rate = df.groupby(col)['churn'].mean()\n",
    "        print(f\"\\nChurn rate by {col}:\")\n",
    "        print(churn_rate.sort_values(ascending=False))"
   ]
  },
  {
   "cell_type": "code",
   "execution_count": null,
   "metadata": {},
   "outputs": [],
   "source": [
    "# Summary insights\n",
    "print(\"=== DATA EXPLORATION SUMMARY ===\")\n",
    "print(f\"Total customers: {len(df)}\")\n",
    "print(f\"Churn rate: {df['churn'].mean():.2%}\")\n",
    "print(f\"Average tenure: {df['tenure'].mean():.1f} months\")\n",
    "print(f\"Average monthly charges: ${df['monthly_charges'].mean():.2f}\")\n",
    "print(f\"Missing values: {df.isnull().sum().sum()}\")\n",
    "\n",
    "# Key insights\n",
    "print(\"\\n=== KEY INSIGHTS ===\")\n",
    "high_churn_tenure = df[df['churn'] == 1]['tenure'].mean()\n",
    "low_churn_tenure = df[df['churn'] == 0]['tenure'].mean()\n",
    "print(f\"Average tenure for churned customers: {high_churn_tenure:.1f} months\")\n",
    "print(f\"Average tenure for retained customers: {low_churn_tenure:.1f} months\")\n",
    "\n",
    "high_churn_charges = df[df['churn'] == 1]['monthly_charges'].mean()\n",
    "low_churn_charges = df[df['churn'] == 0]['monthly_charges'].mean()\n",
    "print(f\"Average monthly charges for churned customers: ${high_churn_charges:.2f}\")\n",
    "print(f\"Average monthly charges for retained customers: ${low_churn_charges:.2f}\")"
   ]
  }
 ],
 "metadata": {
  "kernelspec": {
   "display_name": "Python 3",
   "language": "python",
   "name": "python3"
  },
  "language_info": {
   "codemirror_mode": {
    "name": "ipython",
    "version": 3
   },
   "file_extension": ".py",
   "name": "python",
   "nbconvert_exporter": "python",
   "version": "3.9.0"
  }
 },
 "nbformat": 4,
 "nbformat_minor": 4
}
