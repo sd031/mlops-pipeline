{
 "cells": [
  {
   "cell_type": "markdown",
   "metadata": {},
   "source": [
    "# Data Exploration - Customer Churn Analysis\n",
    "\n",
    "This notebook provides an exploratory data analysis of the customer churn dataset used in our MLOps pipeline."
   ]
  },
  {
   "cell_type": "code",
   "execution_count": null,
   "metadata": {},
   "outputs": [],
   "source": [
    "import pandas as pd\n",
    "import numpy as np\n",
    "import matplotlib.pyplot as plt\n",
    "import seaborn as sns\n",
    "\n",
    "# Load the data\n",
    "df = pd.read_csv('../data/raw/customer_churn.csv')\n",
    "print(f\"Dataset shape: {df.shape}\")\n",
    "df.head()"
   ]
  },
  {
   "cell_type": "code",
   "execution_count": null,
   "metadata": {},
   "outputs": [],
   "source": [
    "# Basic statistics\n",
    "print(\"Dataset Info:\")\n",
    "print(df.info())\n",
    "print(\"\\nChurn Distribution:\")\n",
    "print(df['churn'].value_counts(normalize=True))"
   ]
  },
  {
   "cell_type": "code",
   "execution_count": null,
   "metadata": {},
   "outputs": [],
   "source": [
    "# Visualizations\n",
    "fig, axes = plt.subplots(2, 2, figsize=(15, 10))\n",
    "\n",
    "# Churn distribution\n",
    "df['churn'].value_counts().plot(kind='bar', ax=axes[0,0], title='Churn Distribution')\n",
    "\n",
    "# Age distribution\n",
    "df['age'].hist(bins=20, ax=axes[0,1], title='Age Distribution')\n",
    "\n",
    "# Monthly charges by churn\n",
    "df.boxplot(column='monthly_charges', by='churn', ax=axes[1,0])\n",
    "axes[1,0].set_title('Monthly Charges by Churn')\n",
    "\n",
    "# Tenure by churn\n",
    "df.boxplot(column='tenure', by='churn', ax=axes[1,1])\n",
    "axes[1,1].set_title('Tenure by Churn')\n",
    "\n",
    "plt.tight_layout()\n",
    "plt.show()"
   ]
  }
 ],
 "metadata": {
  "kernelspec": {
   "display_name": "Python 3",
   "language": "python",
   "name": "python3"
  },
  "language_info": {
   "codemirror_mode": {
    "name": "ipython",
    "version": 3
   },
   "file_extension": ".py",
   "name": "python",
   "nbconvert_exporter": "python",
   "pygments_lexer": "ipython3",
   "version": "3.9.0"
  }
 },
 "nbformat": 4,
 "nbformat_minor": 4
}
