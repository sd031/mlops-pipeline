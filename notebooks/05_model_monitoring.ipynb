{
 "cells": [
  {
   "cell_type": "markdown",
   "metadata": {},
   "source": [
    "# Model Monitoring & Drift Detection\n",
    "\n",
    "This notebook monitors model performance and detects data drift in production."
   ]
  },
  {
   "cell_type": "code",
   "execution_count": null,
   "metadata": {},
   "outputs": [],
   "source": [
    "import pandas as pd\n",
    "import numpy as np\n",
    "import matplotlib.pyplot as plt\n",
    "import seaborn as sns\n",
    "from scipy import stats\n",
    "import joblib\n",
    "import warnings\n",
    "warnings.filterwarnings('ignore')\n",
    "\n",
    "print(\"Model monitoring libraries loaded!\")"
   ]
  },
  {
   "cell_type": "code",
   "execution_count": null,
   "metadata": {},
   "outputs": [],
   "source": [
    "# Load training and new data\n",
    "print(\"=== LOADING DATA ===\")\n",
    "\n",
    "try:\n",
    "    # Load training data (baseline)\n",
    "    baseline_data = pd.read_csv('../data/processed/customer_churn_processed.csv')\n",
    "    \n",
    "    # Generate new data for monitoring (simulate production data)\n",
    "    new_data = pd.read_csv('../data/raw/customer_churn.csv')\n",
    "    \n",
    "    print(f\"Baseline data: {baseline_data.shape}\")\n",
    "    print(f\"New data: {new_data.shape}\")\n",
    "    \n",
    "except FileNotFoundError:\n",
    "    print(\"❌ Data files not found. Run previous notebooks first.\")"
   ]
  },
  {
   "cell_type": "code",
   "execution_count": null,
   "metadata": {},
   "outputs": [],
   "source": [
    "# Data drift detection\n",
    "print(\"=== DATA DRIFT DETECTION ===\")\n",
    "\n",
    "numerical_cols = ['tenure', 'monthly_charges', 'total_charges']\n",
    "drift_results = []\n",
    "\n",
    "for col in numerical_cols:\n",
    "    if col in baseline_data.columns and col in new_data.columns:\n",
    "        # KS test for drift\n",
    "        ks_stat, p_value = stats.ks_2samp(baseline_data[col], new_data[col])\n",
    "        \n",
    "        drift_results.append({\n",
    "            'feature': col,\n",
    "            'ks_statistic': ks_stat,\n",
    "            'p_value': p_value,\n",
    "            'drift_detected': p_value < 0.05\n",
    "        })\n",
    "        \n",
    "        print(f\"{col}: KS={ks_stat:.4f}, p-value={p_value:.4f}, Drift={'YES' if p_value < 0.05 else 'NO'}\")\n",
    "\n",
    "drift_df = pd.DataFrame(drift_results)\n",
    "print(f\"\\nFeatures with drift: {drift_df['drift_detected'].sum()}\")"
   ]
  },
  {
   "cell_type": "code",
   "execution_count": null,
   "metadata": {},
   "outputs": [],
   "source": [
    "# Performance monitoring visualization\n",
    "print(\"=== PERFORMANCE MONITORING ===\")\n",
    "\n",
    "# Load model for predictions\n",
    "try:\n",
    "    model = joblib.load('../models/artifacts/best_churn_model_random_forest.joblib')\n",
    "    \n",
    "    # Make predictions on new data (if preprocessed)\n",
    "    if 'churn' in new_data.columns:\n",
    "        y_true = new_data['churn']\n",
    "        # Note: In practice, you'd preprocess new_data same as training data\n",
    "        print(\"Model performance monitoring ready!\")\n",
    "        \n",
    "except FileNotFoundError:\n",
    "    print(\"Model not found. Train model first.\")"
   ]
  },
  {
   "cell_type": "code",
   "execution_count": null,
   "metadata": {},
   "outputs": [],
   "source": [
    "# Drift visualization\n",
    "fig, axes = plt.subplots(2, 2, figsize=(15, 10))\n",
    "axes = axes.ravel()\n",
    "\n",
    "for i, col in enumerate(numerical_cols[:4]):\n",
    "    if col in baseline_data.columns and col in new_data.columns:\n",
    "        axes[i].hist(baseline_data[col], alpha=0.7, label='Baseline', bins=30, density=True)\n",
    "        axes[i].hist(new_data[col], alpha=0.7, label='New Data', bins=30, density=True)\n",
    "        axes[i].set_title(f'{col} Distribution')\n",
    "        axes[i].legend()\n",
    "        axes[i].grid(True)\n",
    "\n",
    "plt.tight_layout()\n",
    "plt.show()\n",
    "\n",
    "print(\"✅ Monitoring analysis complete!\")"
   ]
  }
 ],
 "metadata": {
  "kernelspec": {
   "display_name": "Python 3",
   "language": "python",
   "name": "python3"
  },
  "language_info": {
   "codemirror_mode": {
    "name": "ipython",
    "version": 3
   },
   "file_extension": ".py",
   "name": "python",
   "nbconvert_exporter": "python",
   "version": "3.9.0"
  }
 },
 "nbformat": 4,
 "nbformat_minor": 4
}
